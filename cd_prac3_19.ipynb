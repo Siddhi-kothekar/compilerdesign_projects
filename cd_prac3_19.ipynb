{
  "cells": [
    {
      "cell_type": "markdown",
      "metadata": {
        "id": "M7F7cv1oz7p8"
      },
      "source": [
        "### Name : Siddhi Kothekar\n",
        "### Roll no. : 19\n",
        "### Batch : A2\n",
        "\n",
        "### Practical 3"
      ]
    },
    {
      "cell_type": "code",
      "execution_count": null,
      "metadata": {
        "id": "6UYQ8dpY0avs"
      },
      "outputs": [],
      "source": [
        "from collections import defaultdict"
      ]
    },
    {
      "cell_type": "code",
      "execution_count": null,
      "metadata": {
        "id": "sQFKGJ070lW9"
      },
      "outputs": [],
      "source": [
        "def compute_first(grammar):\n",
        "    first = defaultdict(set)\n",
        "\n",
        "    def first_of(symbol):\n",
        "        if symbol in first and first[symbol]:\n",
        "            return first[symbol]\n",
        "\n",
        "        if not symbol.isupper():\n",
        "            return {symbol}\n",
        "\n",
        "        first_set = set()\n",
        "        for production in grammar[symbol]:\n",
        "            for char in production:\n",
        "                char_first = first_of(char)\n",
        "                first_set.update(char_first - {'ε'})\n",
        "                if 'ε' not in char_first:\n",
        "                    break\n",
        "            else:\n",
        "                first_set.add('ε')\n",
        "\n",
        "        first[symbol] = first_set\n",
        "        return first_set\n",
        "\n",
        "    for non_terminal in grammar:\n",
        "        first_of(non_terminal)\n",
        "\n",
        "    return first\n"
      ]
    },
    {
      "cell_type": "code",
      "execution_count": null,
      "metadata": {
        "id": "gZGNTZNj02Sj"
      },
      "outputs": [],
      "source": [
        "def parse_grammar():\n",
        "    grammar = defaultdict(list)\n",
        "    n = int(input(\"Enter number of productions: \"))\n",
        "    print(\"Enter productions (Use '|' for multiple productions, 'ε' for epsilon):\")\n",
        "    for _ in range(n):\n",
        "        line = input().strip().replace(\" \", \"\")\n",
        "        lhs, rhs = line.split(\"->\")\n",
        "        productions = rhs.split(\"|\")\n",
        "        grammar[lhs].extend(productions)\n",
        "    return grammar"
      ]
    },
    {
      "cell_type": "code",
      "execution_count": null,
      "metadata": {
        "id": "-ztMLHvT0-KS"
      },
      "outputs": [],
      "source": [
        "def main():\n",
        "    grammar = parse_grammar()\n",
        "    first_sets = compute_first(grammar)\n",
        "    print(\"\\nFIRST sets:\")\n",
        "    for non_terminal, first_set in first_sets.items():\n",
        "        print(f\"FIRST({non_terminal}) = {first_set}\")"
      ]
    },
    {
      "cell_type": "code",
      "execution_count": null,
      "metadata": {
        "colab": {
          "base_uri": "https://localhost:8080/"
        },
        "id": "DrURj4EM1DAa",
        "outputId": "5594bcb8-5e37-4b54-dedc-66defdd2e745"
      },
      "outputs": [
        {
          "name": "stdout",
          "output_type": "stream",
          "text": [
            "Enter number of productions: 4\n",
            "Enter productions (Use '|' for multiple productions, 'ε' for epsilon):\n",
            "S->AB|C\n",
            "A->a|b|ε\n",
            "B->p|ε\n",
            "C->c\n",
            "\n",
            "FIRST sets:\n",
            "FIRST(A) = {'ε', 'b', 'a'}\n",
            "FIRST(B) = {'p', 'ε'}\n",
            "FIRST(C) = {'c'}\n",
            "FIRST(S) = {'b', 'a', 'p', 'c', 'ε'}\n"
          ]
        }
      ],
      "source": [
        "if __name__ == \"__main__\":\n",
        "    main()"
      ]
    },
    {
      "cell_type": "code",
      "execution_count": null,
      "metadata": {
        "id": "BcUWOm961VjD"
      },
      "outputs": [],
      "source": [
        "def compute_follow(grammar, first_sets):\n",
        "    follow = defaultdict(set)\n",
        "    start_symbol = list(grammar.keys())[0]\n",
        "    follow[start_symbol].add('$')\n",
        "\n",
        "    changed = True\n",
        "    while changed:\n",
        "        changed = False\n",
        "        for non_terminal, productions in grammar.items():\n",
        "            for production in productions:\n",
        "                for i, symbol in enumerate(production):\n",
        "                    if symbol.isupper():\n",
        "                        # Rule 2: if A -> αBβ, FOLLOW(B) contains everything in FIRST(β) - {ε}\n",
        "                        if i < len(production) - 1:\n",
        "                            beta = production[i+1:]\n",
        "                            beta_first = set()\n",
        "                            for char in beta:\n",
        "                                beta_first.update(first_sets[char] if char.isupper() else {char})\n",
        "                                if 'ε' not in beta_first:\n",
        "                                    break\n",
        "\n",
        "                            follow_before = len(follow[symbol])\n",
        "                            follow[symbol].update(beta_first - {'ε'})\n",
        "                            if len(follow[symbol]) > follow_before:\n",
        "                                changed=True\n",
        "\n",
        "                        # Rule 3: if A -> αB or A -> αBβ, where ε ∈ FIRST(β), then FOLLOW(B) contains FOLLOW(A)\n",
        "                        if i == len(production) - 1 or ('ε' in beta_first if i < len(production) - 1 else True):\n",
        "                          follow_before = len(follow[symbol])\n",
        "                          follow[symbol].update(follow[non_terminal])\n",
        "                          if len(follow[symbol]) > follow_before:\n",
        "                                changed=True\n",
        "    return follow\n",
        "\n"
      ]
    },
    {
      "cell_type": "code",
      "execution_count": null,
      "metadata": {
        "id": "Nd0SHnDN_3m2"
      },
      "outputs": [],
      "source": [
        "\n",
        "def construct_parsing_table(grammar, first_sets, follow_sets):\n",
        "    table = defaultdict(dict)\n",
        "    for non_terminal, productions in grammar.items():\n",
        "        for production in productions:\n",
        "            first_prod = set()\n",
        "            for symbol in production:\n",
        "                first_prod.update(first_sets[symbol] if symbol.isupper() else {symbol})\n",
        "                if 'ε' not in first_prod:\n",
        "                    break\n",
        "\n",
        "            if 'ε' in first_prod:\n",
        "              for terminal in follow_sets[non_terminal]:\n",
        "                 if table[non_terminal].get(terminal,None) != None:\n",
        "                     print (\"Error: Grammar is not LL(1)\")\n",
        "                     return None\n",
        "                 table[non_terminal][terminal] = production\n",
        "\n",
        "            else:\n",
        "              for terminal in first_prod:\n",
        "                if table[non_terminal].get(terminal,None) != None:\n",
        "                     print (\"Error: Grammar is not LL(1)\")\n",
        "                     return None\n",
        "                table[non_terminal][terminal] = production\n",
        "    return table"
      ]
    },
    {
      "cell_type": "code",
      "execution_count": null,
      "metadata": {
        "id": "4M7i_Wbh_-oj"
      },
      "outputs": [],
      "source": [
        "\n",
        "def main():\n",
        "    grammar = parse_grammar()\n",
        "    first_sets = compute_first(grammar)\n",
        "    print(\"\\nFIRST sets:\")\n",
        "    for non_terminal, first_set in first_sets.items():\n",
        "        print(f\"FIRST({non_terminal}) = {first_set}\")\n",
        "\n",
        "    follow_sets = compute_follow(grammar, first_sets)\n",
        "    print(\"\\nFOLLOW sets:\")\n",
        "    for non_terminal, follow_set in follow_sets.items():\n",
        "        print(f\"FOLLOW({non_terminal}) = {follow_set}\")\n",
        "\n",
        "    parsing_table = construct_parsing_table(grammar,first_sets,follow_sets)\n",
        "\n",
        "    if parsing_table:\n",
        "        print(\"\\nLL(1) Parsing Table:\")\n",
        "        for non_terminal, terminals in parsing_table.items():\n",
        "          for terminal, production in terminals.items():\n",
        "            print(f\"M[{non_terminal}, {terminal}] = {non_terminal}->{production}\")"
      ]
    },
    {
      "cell_type": "code",
      "execution_count": null,
      "metadata": {
        "colab": {
          "base_uri": "https://localhost:8080/"
        },
        "id": "aFA6ohJnACCM",
        "outputId": "88e8fc05-b81d-4b0a-98e5-3f23c52f5f3e"
      },
      "outputs": [
        {
          "name": "stdout",
          "output_type": "stream",
          "text": [
            "Enter number of productions: 6\n",
            "Enter productions (Use '|' for multiple productions, 'ε' for epsilon):\n",
            "S->aBDh\n",
            "B->cC\n",
            "C->bC\n",
            "D->EF\n",
            "E->g|ε\n",
            "F->f|ε\n",
            "\n",
            "FIRST sets:\n",
            "FIRST(S) = {'a'}\n",
            "FIRST(B) = {'c'}\n",
            "FIRST(C) = {'b'}\n",
            "FIRST(E) = {'g', 'ε'}\n",
            "FIRST(F) = {'ε', 'f'}\n",
            "FIRST(D) = {'g', 'ε', 'f'}\n",
            "\n",
            "FOLLOW sets:\n",
            "FOLLOW(S) = {'$'}\n",
            "FOLLOW(B) = {'g', '$', 'h', 'f'}\n",
            "FOLLOW(D) = {'h'}\n",
            "FOLLOW(C) = {'g', '$', 'h', 'f'}\n",
            "FOLLOW(E) = {'h', 'f'}\n",
            "FOLLOW(F) = {'h'}\n",
            "\n",
            "LL(1) Parsing Table:\n",
            "M[S, a] = S->aBDh\n",
            "M[B, c] = B->cC\n",
            "M[C, b] = C->bC\n",
            "M[D, h] = D->EF\n",
            "M[E, g] = E->g\n",
            "M[E, h] = E->ε\n",
            "M[E, f] = E->ε\n",
            "M[F, f] = F->f\n",
            "M[F, h] = F->ε\n"
          ]
        }
      ],
      "source": [
        "\n",
        "if __name__ == \"__main__\":\n",
        "    main()"
      ]
    },
    {
      "cell_type": "code",
      "execution_count": null,
      "metadata": {
        "id": "uHC0xOcNB_AO"
      },
      "outputs": [],
      "source": []
    }
  ],
  "metadata": {
    "colab": {
      "provenance": []
    },
    "kernelspec": {
      "display_name": "Python 3",
      "name": "python3"
    },
    "language_info": {
      "name": "python"
    }
  },
  "nbformat": 4,
  "nbformat_minor": 0
}